{
  "nbformat": 4,
  "nbformat_minor": 0,
  "metadata": {
    "colab": {
      "provenance": [],
      "authorship_tag": "ABX9TyN334AfjQY2Y1g/BZdIpH9S",
      "include_colab_link": true
    },
    "kernelspec": {
      "name": "python3",
      "display_name": "Python 3"
    },
    "language_info": {
      "name": "python"
    }
  },
  "cells": [
    {
      "cell_type": "markdown",
      "metadata": {
        "id": "view-in-github",
        "colab_type": "text"
      },
      "source": [
        "<a href=\"https://colab.research.google.com/github/DishaChoudhary4762/ML_lab/blob/main/Lab_1.ipynb\" target=\"_parent\"><img src=\"https://colab.research.google.com/assets/colab-badge.svg\" alt=\"Open In Colab\"/></a>"
      ]
    },
    {
      "cell_type": "code",
      "execution_count": null,
      "metadata": {
        "colab": {
          "base_uri": "https://localhost:8080/"
        },
        "id": "9YeeNm23S7RV",
        "outputId": "0632851b-61fe-47dd-d301-0ff3077ea1cd"
      },
      "outputs": [
        {
          "output_type": "stream",
          "name": "stdout",
          "text": [
            "1D Array: [1 2 3 4 5]\n"
          ]
        }
      ],
      "source": [
        "import numpy as np\n",
        "arr = np.array([1, 2, 3, 4, 5])\n",
        "\n",
        "print(\"1D Array:\", arr)"
      ]
    },
    {
      "cell_type": "code",
      "source": [
        "# Create a 2D array\n",
        "arr_2d = np.array([[1, 2, 3], [4, 5, 6]])\n",
        "\n",
        "print(\"\\n2D Array:\")\n",
        "print(arr_2d)"
      ],
      "metadata": {
        "colab": {
          "base_uri": "https://localhost:8080/"
        },
        "id": "D-D_bhQ2UDgr",
        "outputId": "9494e373-4711-48c4-9ed3-48c2dc691777"
      },
      "execution_count": null,
      "outputs": [
        {
          "output_type": "stream",
          "name": "stdout",
          "text": [
            "\n",
            "2D Array:\n",
            "[[1 2 3]\n",
            " [4 5 6]]\n"
          ]
        }
      ]
    },
    {
      "cell_type": "code",
      "source": [
        "#LIST TO ARRAY\n",
        "my_list = [1,2,3]\n",
        "import numpy as np\n",
        "arr = np.array(my_list)\n",
        "print(\"Type/Class of this object:\",type(arr))\n",
        "print(\"Here is the vector\\n--------------------\\n\",arr)"
      ],
      "metadata": {
        "colab": {
          "base_uri": "https://localhost:8080/"
        },
        "id": "aP1UzeHwUH2b",
        "outputId": "d4b5514a-3a22-4d33-b6ae-929320a17c8d"
      },
      "execution_count": null,
      "outputs": [
        {
          "output_type": "stream",
          "name": "stdout",
          "text": [
            "Type/Class of this object: <class 'numpy.ndarray'>\n",
            "Here is the vector\n",
            "--------------------\n",
            " [1 2 3]\n"
          ]
        }
      ]
    },
    {
      "cell_type": "code",
      "source": [
        "#Operations on array\n",
        "\n",
        "my_mat = [[1,2,3],[4,5,6],[7,8,9]]\n",
        "mat = np.array(my_mat)\n",
        "print(\"Type/Class of this object:\",type(mat))\n",
        "print(\"Here is the matrix\\n----------\\n\",mat,\"\\n----------\")\n",
        "\n",
        "#ndim gives the dimensison, 2 for a matrix, 1 for a vector\n",
        "print(\"Dimension of this matrix: \",mat.ndim,sep='')\n",
        "\n",
        " #size gives the total number of elements\n",
        "print(\"Size of this matrix: \", mat.size,sep='')\n",
        "\n",
        "#shape gives the number of elements along each axes (dimension)\n",
        "print(\"Shape of this matrix: \", mat.shape,sep='')\n",
        "\n",
        "#dtype gives the data type contained in the array\n",
        "print(\"Data type of this matrix: \", mat.dtype,sep='')"
      ],
      "metadata": {
        "colab": {
          "base_uri": "https://localhost:8080/"
        },
        "id": "4YGrnPsnUci8",
        "outputId": "28c9f7ef-d989-4a17-916a-cbb48adf7915"
      },
      "execution_count": null,
      "outputs": [
        {
          "output_type": "stream",
          "name": "stdout",
          "text": [
            "Type/Class of this object: <class 'numpy.ndarray'>\n",
            "Here is the matrix\n",
            "----------\n",
            " [[1 2 3]\n",
            " [4 5 6]\n",
            " [7 8 9]] \n",
            "----------\n",
            "Dimension of this matrix: 2\n",
            "Size of this matrix: 9\n",
            "Shape of this matrix: (3, 3)\n",
            "Data type of this matrix: int64\n"
          ]
        }
      ]
    },
    {
      "cell_type": "code",
      "source": [
        "#NP.ARRANGE\n",
        "# np.arrange(a,b) = A series of numbers from a to b\n",
        "print(\"A series of numbers:\",np.arange(5,16))\n",
        "\n",
        "# np.arrange(a,b,c) =  A series of numbers from a to b spaced apart by c\n",
        "print(\"\\n Numbers spaced apart by 2:\",np.arange(0,11,2))\n",
        "\n",
        "# np.arrange(m,-n,-o) = m to n spaced by -o\n",
        "print(\"\\n Every 5th number from 50 in reverse order\",np.arange(50,-1,-5))\n",
        "\n"
      ],
      "metadata": {
        "colab": {
          "base_uri": "https://localhost:8080/"
        },
        "id": "VHvqNQ5jUebN",
        "outputId": "e5a47acb-bc4a-4e71-baba-c02cf26d17c5"
      },
      "execution_count": null,
      "outputs": [
        {
          "output_type": "stream",
          "name": "stdout",
          "text": [
            "A series of numbers: [ 5  6  7  8  9 10 11 12 13 14 15]\n",
            "\n",
            " Numbers spaced apart by 2: [ 0  2  4  6  8 10]\n",
            "\n",
            " Every 5th number from 50 in reverse order [50 45 40 35 30 25 20 15 10  5  0]\n"
          ]
        }
      ]
    },
    {
      "cell_type": "code",
      "source": [
        "#linspace\n",
        "print(\"21 linearly spaced numbers between 1 and 5\\n\")\n",
        "print(np.linspace(1,5,21))"
      ],
      "metadata": {
        "colab": {
          "base_uri": "https://localhost:8080/"
        },
        "id": "-nZIM5gPUlzc",
        "outputId": "1d37ae62-1139-429f-a329-806df8d10db4"
      },
      "execution_count": null,
      "outputs": [
        {
          "output_type": "stream",
          "name": "stdout",
          "text": [
            "21 linearly spaced numbers between 1 and 5\n",
            "\n",
            "[1.  1.2 1.4 1.6 1.8 2.  2.2 2.4 2.6 2.8 3.  3.2 3.4 3.6 3.8 4.  4.2 4.4\n",
            " 4.6 4.8 5. ]\n"
          ]
        }
      ]
    },
    {
      "cell_type": "code",
      "source": [
        "# Generate a random integer between 0 and 10 (exclusive)\n",
        "rand_int = np.random.randint(0, 10)\n",
        "print(rand_int)\n",
        "\n",
        "# Generate a random float between 0 and 1\n",
        "rand_float = np.random.rand()\n",
        "print(rand_float)\n",
        "\n",
        "# Generate a 1D array of 5 random floats between 0 and 1\n",
        "rand_array = np.random.rand(5)\n",
        "print(rand_array)\n"
      ],
      "metadata": {
        "colab": {
          "base_uri": "https://localhost:8080/"
        },
        "id": "XxYZ4ev9VIv7",
        "outputId": "73b90cb1-c880-4c01-bdf5-d69680a68345"
      },
      "execution_count": null,
      "outputs": [
        {
          "output_type": "stream",
          "name": "stdout",
          "text": [
            "8\n",
            "0.05207575768755024\n",
            "[0.29893768 0.5040484  0.25093343 0.00489928 0.91487558]\n"
          ]
        }
      ]
    },
    {
      "cell_type": "code",
      "source": [
        "# Print a 1D array of 5 zeros directly\n",
        "print(\"1D Array of Zeros:\", np.zeros(5))\n",
        "\n",
        "# Print a 2D array (3x4) of zeros directly\n",
        "print(\"\\n 2D Array of Zeros:\\n\", np.zeros((3, 4)))\n",
        "\n",
        "# Print a 2D array (3x3) of zeros with integer data type directly\n",
        "print(\"\\n 2D Array of Zeros (Integer Type):\\n\", np.zeros((3, 3), dtype=int))\n",
        "\n",
        "# Print a 3D array (2x3x4) of zeros directly\n",
        "print(\"\\n 3D Array of Zeros:\\n\", np.zeros((2, 3, 4)))\n"
      ],
      "metadata": {
        "colab": {
          "base_uri": "https://localhost:8080/"
        },
        "id": "EYNSX2saVNZP",
        "outputId": "4c4447f0-e69f-4481-bb34-80081cfc1e83"
      },
      "execution_count": null,
      "outputs": [
        {
          "output_type": "stream",
          "name": "stdout",
          "text": [
            "1D Array of Zeros: [0. 0. 0. 0. 0.]\n",
            "\n",
            " 2D Array of Zeros:\n",
            " [[0. 0. 0. 0.]\n",
            " [0. 0. 0. 0.]\n",
            " [0. 0. 0. 0.]]\n",
            "\n",
            " 2D Array of Zeros (Integer Type):\n",
            " [[0 0 0]\n",
            " [0 0 0]\n",
            " [0 0 0]]\n",
            "\n",
            " 3D Array of Zeros:\n",
            " [[[0. 0. 0. 0.]\n",
            "  [0. 0. 0. 0.]\n",
            "  [0. 0. 0. 0.]]\n",
            "\n",
            " [[0. 0. 0. 0.]\n",
            "  [0. 0. 0. 0.]\n",
            "  [0. 0. 0. 0.]]]\n"
          ]
        }
      ]
    },
    {
      "cell_type": "code",
      "source": [
        "# Print a 1D array of 5 ones directly\n",
        "print(\"1D Array of Ones:\", np.ones(5))\n",
        "\n",
        "# Print a 2D array (3x4) of ones directly\n",
        "print(\"\\n 2D Array of Ones:\\n\", np.ones((3, 4)))\n",
        "\n",
        "# Print a 2D array (3x3) of ones with integer data type directly\n",
        "print(\"\\n 2D Array of Ones (Integer Type):\\n\", np.ones((3, 3), dtype=int))\n",
        "\n",
        "# Print a 3D array (2x3x4) of ones directly\n",
        "print(\"\\n 3D Array of Ones:\\n\", np.ones((2, 3, 4)))\n"
      ],
      "metadata": {
        "colab": {
          "base_uri": "https://localhost:8080/"
        },
        "id": "QoMbOzFYVRUE",
        "outputId": "6d0abeeb-72b2-4e08-f9b0-f7c024964976"
      },
      "execution_count": null,
      "outputs": [
        {
          "output_type": "stream",
          "name": "stdout",
          "text": [
            "1D Array of Ones: [1. 1. 1. 1. 1.]\n",
            "\n",
            " 2D Array of Ones:\n",
            " [[1. 1. 1. 1.]\n",
            " [1. 1. 1. 1.]\n",
            " [1. 1. 1. 1.]]\n",
            "\n",
            " 2D Array of Ones (Integer Type):\n",
            " [[1 1 1]\n",
            " [1 1 1]\n",
            " [1 1 1]]\n",
            "\n",
            " 3D Array of Ones:\n",
            " [[[1. 1. 1. 1.]\n",
            "  [1. 1. 1. 1.]\n",
            "  [1. 1. 1. 1.]]\n",
            "\n",
            " [[1. 1. 1. 1.]\n",
            "  [1. 1. 1. 1.]\n",
            "  [1. 1. 1. 1.]]]\n"
          ]
        }
      ]
    },
    {
      "cell_type": "code",
      "source": [
        "# np.eye(3) = Create a 3x3 identity matrix\n",
        "identity_matrix = np.eye(3)\n",
        "print(\"3x3 Identity Matrix:\\n\", identity_matrix)\n"
      ],
      "metadata": {
        "colab": {
          "base_uri": "https://localhost:8080/"
        },
        "id": "7SR64ubUVWT3",
        "outputId": "882ce663-bbcf-42dc-c3e5-1efae32acc44"
      },
      "execution_count": null,
      "outputs": [
        {
          "output_type": "stream",
          "name": "stdout",
          "text": [
            "3x3 Identity Matrix:\n",
            " [[1. 0. 0.]\n",
            " [0. 1. 0.]\n",
            " [0. 0. 1.]]\n"
          ]
        }
      ]
    },
    {
      "cell_type": "code",
      "source": [
        "#np.reshape\n",
        "# Create a 1D array of 6 elements\n",
        "arr = np.array([1, 2, 3, 4, 5, 6])\n",
        "\n",
        "# Reshape it to a 2D array of shape (2, 3)\n",
        "reshaped_arr = np.reshape(arr, (2, 3))\n",
        "print(\"Reshaped Array (2x3):\\n\", reshaped_arr)\n"
      ],
      "metadata": {
        "colab": {
          "base_uri": "https://localhost:8080/"
        },
        "id": "qBAmBaTKVdpu",
        "outputId": "346c73de-a9e6-422b-8f9e-6184dc255ce4"
      },
      "execution_count": null,
      "outputs": [
        {
          "output_type": "stream",
          "name": "stdout",
          "text": [
            "Reshaped Array (2x3):\n",
            " [[1 2 3]\n",
            " [4 5 6]]\n"
          ]
        }
      ]
    }
  ]
}